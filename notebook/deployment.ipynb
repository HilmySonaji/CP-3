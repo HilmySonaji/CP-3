{
 "cells": [
  {
   "cell_type": "code",
   "execution_count": 2,
   "metadata": {},
   "outputs": [
    {
     "name": "stdout",
     "output_type": "stream",
     "text": [
      "{'Request': [{'Type': 'Hilux', 'Region': 'Riyadh', 'Make': 'Toyota', 'Gear_Type': 'Manual', 'Origin': 'Saudi', 'Options': 'Semi Full', 'Year': 2017, 'Engine_Size': 3.0, 'Mileage': 100000, 'Price': 80000}], 'Predicted_Price': [89496.09375]}\n"
     ]
    }
   ],
   "source": [
    "import requests\n",
    "\n",
    "# Set url of the model that has been deployed\n",
    "url = \"http://127.0.0.1:8000/prediction\"\n",
    "\n",
    "# Define the data to be predicted\n",
    "payload = {\n",
    "  \"data\": [\n",
    "       {\n",
    "          'Type': \"Hilux\",\n",
    "          'Region': \"Riyadh\",\n",
    "          'Make': \"Toyota\",\n",
    "          'Gear_Type': \"Manual\",\n",
    "          'Origin': \"Saudi\",\n",
    "          'Options': \"Semi Full\",\n",
    "          'Year': 2017,\n",
    "          'Engine_Size': 3.0,\n",
    "          'Mileage': 100000,\n",
    "          'Price': 80000\n",
    "        },\n",
    "  ]\n",
    "}\n",
    "\n",
    "# Send a POST request to the URL\n",
    "result = requests.post(url, json=payload)\n",
    "\n",
    "# Parse the response JSON\n",
    "response_json = result.json()\n",
    "\n",
    "# Rename the 'Response' key to 'Predicted_Price'\n",
    "response_json['Predicted_Price'] = response_json.pop('Response')\n",
    "\n",
    "# Show the response\n",
    "print(response_json)"
   ]
  }
 ],
 "metadata": {
  "kernelspec": {
   "display_name": "Python 3",
   "language": "python",
   "name": "python3"
  },
  "language_info": {
   "codemirror_mode": {
    "name": "ipython",
    "version": 3
   },
   "file_extension": ".py",
   "mimetype": "text/x-python",
   "name": "python",
   "nbconvert_exporter": "python",
   "pygments_lexer": "ipython3",
   "version": "3.11.6"
  }
 },
 "nbformat": 4,
 "nbformat_minor": 2
}
